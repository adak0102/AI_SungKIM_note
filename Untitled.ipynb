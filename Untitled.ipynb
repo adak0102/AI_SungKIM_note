{
 "cells": [
  {
   "cell_type": "code",
   "execution_count": 2,
   "metadata": {},
   "outputs": [
    {
     "data": {
      "text/plain": [
       "'2.3.1'"
      ]
     },
     "execution_count": 2,
     "metadata": {},
     "output_type": "execute_result"
    }
   ],
   "source": [
    "import tensorflow as tf\n",
    "tf.__version__\n",
    "#hello=tf.constant"
   ]
  },
  {
   "cell_type": "code",
   "execution_count": 6,
   "metadata": {},
   "outputs": [
    {
     "name": "stdout",
     "output_type": "stream",
     "text": [
      "b'Hello,TensorFlow!'\n"
     ]
    }
   ],
   "source": [
    "#session version 오류\n",
    "import tensorflow.compat.v1 as tf\n",
    "tf.disable_v2_behavior()\n",
    "\n",
    "#Create a constant op\n",
    "#This op is added as a node to the default graph\n",
    "hello=tf.constant(\"Hello,TensorFlow!\")\n",
    "\n",
    "#seart a TF session\n",
    "sess=tf.Session()\n",
    "\n",
    "#run the op and get result\n",
    "print(sess.run(hello))\n"
   ]
  },
  {
   "cell_type": "code",
   "execution_count": null,
   "metadata": {},
   "outputs": [],
   "source": [
    "## COmputational Graph"
   ]
  },
  {
   "cell_type": "code",
   "execution_count": null,
   "metadata": {},
   "outputs": [],
   "source": [
    "node1=\n",
    "\n",
    "#sess.run : 그래프를 실행시킴 / 실행시키고 싶은 그래프의 노드를 (아규먼트로) 넣어줌"
   ]
  },
  {
   "cell_type": "code",
   "execution_count": null,
   "metadata": {},
   "outputs": [],
   "source": [
    "#그래프 빌드 - 실행\n",
    "\n",
    "실행시키는 단계에서 값던짐\n",
    "placehold로 노드 만듬\n",
    "\n",
    "노드 두개 이용해서 add node만듬\n",
    "\n",
    "feed_Dict로 값 넘겨줌\n"
   ]
  },
  {
   "cell_type": "code",
   "execution_count": null,
   "metadata": {},
   "outputs": [],
   "source": [
    "Tensor라는 것은 기본적으로 array를 말함\n",
    "rank, shape, type\n",
    "\n",
    "\n",
    "몇차원, 각각의 element에 몇개씩 들어있느냐, 데이터 타입 도 텐스에서는 중요함\n",
    "\n",
    "설계, 실행, \n",
    "\n",
    "shape개념 중요\n",
    "--> (원소개수, 차원)  #선대 강의.... ㅠㅠㅠ  # 선대 공부 제대로->영어로!! 천천히 하더라도 !!! 미적분 강의도 들어야함,,,영어로 듣기 !! \n"
   ]
  }
 ],
 "metadata": {
  "kernelspec": {
   "display_name": "pydatavenv",
   "language": "python",
   "name": "pydatavenv"
  },
  "language_info": {
   "codemirror_mode": {
    "name": "ipython",
    "version": 3
   },
   "file_extension": ".py",
   "mimetype": "text/x-python",
   "name": "python",
   "nbconvert_exporter": "python",
   "pygments_lexer": "ipython3",
   "version": "3.7.9"
  }
 },
 "nbformat": 4,
 "nbformat_minor": 4
}
