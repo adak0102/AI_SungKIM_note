{
 "cells": [
  {
   "cell_type": "markdown",
   "metadata": {
    "slideshow": {
     "slide_type": "slide"
    }
   },
   "source": [
    "# Getting Started With TensorFlow\n",
    "https://www.tensorflow.org/get_started/get_started"
   ]
  },
  {
   "cell_type": "markdown",
   "metadata": {},
   "source": [
    "## Check TF version"
   ]
  },
  {
   "cell_type": "code",
   "execution_count": 1,
   "metadata": {
    "collapsed": false,
    "jupyter": {
     "outputs_hidden": false
    },
    "slideshow": {
     "slide_type": "slide"
    }
   },
   "outputs": [
    {
     "ename": "ModuleNotFoundError",
     "evalue": "No module named 'tensorflow'",
     "output_type": "error",
     "traceback": [
      "\u001b[1;31m---------------------------------------------------------------------------\u001b[0m",
      "\u001b[1;31mModuleNotFoundError\u001b[0m                       Traceback (most recent call last)",
      "\u001b[1;32m<ipython-input-1-4ae80da9abf6>\u001b[0m in \u001b[0;36m<module>\u001b[1;34m\u001b[0m\n\u001b[1;32m----> 1\u001b[1;33m \u001b[1;32mimport\u001b[0m \u001b[0mtensorflow\u001b[0m \u001b[1;32mas\u001b[0m \u001b[0mtf\u001b[0m\u001b[1;33m\u001b[0m\u001b[1;33m\u001b[0m\u001b[0m\n\u001b[0m\u001b[0;32m      2\u001b[0m \u001b[0mtf\u001b[0m\u001b[1;33m.\u001b[0m\u001b[0m__version__\u001b[0m\u001b[1;33m\u001b[0m\u001b[1;33m\u001b[0m\u001b[0m\n",
      "\u001b[1;31mModuleNotFoundError\u001b[0m: No module named 'tensorflow'"
     ]
    }
   ],
   "source": [
    "import tensorflow as tf\n",
    "tf.__version__"
   ]
  },
  {
   "cell_type": "markdown",
   "metadata": {},
   "source": [
    "## Hello TensorFlow!"
   ]
  },
  {
   "cell_type": "code",
   "execution_count": 2,
   "metadata": {
    "collapsed": false,
    "jupyter": {
     "outputs_hidden": false
    }
   },
   "outputs": [
    {
     "name": "stdout",
     "output_type": "stream",
     "text": [
      "b'Hello, TensorFlow!'\n"
     ]
    }
   ],
   "source": [
    "# Create a constant op\n",
    "# This op is added as a node to the default graph\n",
    "hello = tf.constant(\"Hello, TensorFlow!\")   #constant를 만듬\n",
    "\n",
    "# start a TF session\n",
    "sess = tf.Session()\n",
    "\n",
    "# run the op and get result\n",
    "print(sess.run(hello))\n",
    "\n",
    "#가장 쉬운 hello world 텐서 프로그래밍 \n",
    "#노드를 만들고 세션을 만든다음 실행 시켰다. \n",
    "\n",
    "#b : byte string이라는 뜻"
   ]
  },
  {
   "cell_type": "markdown",
   "metadata": {},
   "source": [
    "computational graph라는 개념 속에서 \n",
    "\n",
    "\"Hello, TensorFlow!\"라는 node 하나가 만들어진 상태가 됨 , edge는 없고 \n",
    "\n",
    "보통의 프로그램에서는 그냥 print할 수 있지만\n",
    "\n",
    "computational graph를 실행하기 위해서는 \n",
    "\n",
    "session이라는 것을 만들고 \n",
    "\n",
    "session.run으로 실행할 수 있음\n",
    "\n",
    "우리가 만들어놓은 hello라는 노드를 실행"
   ]
  },
  {
   "cell_type": "markdown",
   "metadata": {
    "slideshow": {
     "slide_type": "slide"
    }
   },
   "source": [
    "## Tensors"
   ]
  },
  {
   "cell_type": "code",
   "execution_count": 3,
   "metadata": {
    "collapsed": false,
    "jupyter": {
     "outputs_hidden": false
    },
    "slideshow": {
     "slide_type": "slide"
    }
   },
   "outputs": [
    {
     "data": {
      "text/plain": [
       "[[[1.0, 2.0, 3.0]], [[7.0, 8.0, 9.0]]]"
      ]
     },
     "execution_count": 3,
     "metadata": {},
     "output_type": "execute_result"
    }
   ],
   "source": [
    "3 # a rank 0 tensor; this is a scalar with shape []\n",
    "[1. ,2., 3.] # a rank 1 tensor; this is a vector with shape [3]\n",
    "[[1., 2., 3.], [4., 5., 6.]] # a rank 2 tensor; a matrix with shape [2, 3]\n",
    "[[[1., 2., 3.]], [[7., 8., 9.]]] # a rank 3 tensor with shape [2, 1, 3]"
   ]
  },
  {
   "cell_type": "markdown",
   "metadata": {},
   "source": [
    "## Computational Graph"
   ]
  },
  {
   "cell_type": "code",
   "execution_count": 4,
   "metadata": {
    "collapsed": false,
    "jupyter": {
     "outputs_hidden": false
    }
   },
   "outputs": [],
   "source": [
    "node1 = tf.constant(3.0, tf.float32) #데이터 타입을 줄 수도 있음 \n",
    "node2 = tf.constant(4.0) # also tf.float32 implicitly\n",
    "node3 = tf.add(node1, node2) #더하기 노드 #node3= node1+node2"
   ]
  },
  {
   "cell_type": "code",
   "execution_count": 5,
   "metadata": {
    "collapsed": false,
    "jupyter": {
     "outputs_hidden": false
    },
    "scrolled": true
   },
   "outputs": [
    {
     "name": "stdout",
     "output_type": "stream",
     "text": [
      "node1: Tensor(\"Const_1:0\", shape=(), dtype=float32) node2: Tensor(\"Const_2:0\", shape=(), dtype=float32)\n",
      "node3:  Tensor(\"Add:0\", shape=(), dtype=float32)\n"
     ]
    }
   ],
   "source": [
    "print(\"node1:\", node1, \"node2:\", node2)\n",
    "print(\"node3: \", node3) #출력의 결과가 재밌음, 그래프의 요소, tensor야 라고 나옴\n",
    "#결과값이 나오는게 아니라"
   ]
  },
  {
   "cell_type": "markdown",
   "metadata": {},
   "source": [
    "결과값 나오게 하려면,\n",
    "\n",
    "session을 만들고\n",
    "\n",
    "sess.run을 통해 그래프의 노드를 실행 시킴 #실행시키고 싶은 노드를 넣으줌\n",
    "\n",
    "이렇게 하면 node1,2은 상수가 되는 노드 \n",
    "\n",
    "\n",
    "하고 싶은 +노드 (텐스)를 실행시키기 위해 sess.run(node3) 넣어서 실행 시켜줌"
   ]
  },
  {
   "cell_type": "markdown",
   "metadata": {},
   "source": [
    "![Graph](https://www.tensorflow.org/images/getting_started_adder.png)"
   ]
  },
  {
   "cell_type": "markdown",
   "metadata": {},
   "source": [
    "a와 b라는 노드가 있고 + (adder_no 더하기)라는 node로 연결 됨"
   ]
  },
  {
   "cell_type": "code",
   "execution_count": 6,
   "metadata": {
    "collapsed": false,
    "jupyter": {
     "outputs_hidden": false
    },
    "scrolled": true
   },
   "outputs": [
    {
     "name": "stdout",
     "output_type": "stream",
     "text": [
      "sess.run(node1, node2):  [3.0, 4.0]\n",
      "sess.run(node3):  7.0\n"
     ]
    }
   ],
   "source": [
    "sess = tf.Session()\n",
    "print(\"sess.run(node1, node2): \", sess.run([node1, node2]))\n",
    "print(\"sess.run(node3): \", sess.run(node3))"
   ]
  },
  {
   "cell_type": "markdown",
   "metadata": {},
   "source": [
    "[텐서플로우 전체 구조 ] TesorFlow Mechanics\n",
    "1. graph를 텐서 플로우 툴을 이용해 build하고\n",
    "2. sess.run(op)를 통해 그래프를 실행 시킴 (우리가 원하는 노드나 operation을 넣어서) \n",
    "3. 그결과로 그래프의 속의 값들이 update되거나 값을 리턴 시킴 \n",
    "--- 그래프를 그려서 실행하는 법 ---"
   ]
  },
  {
   "cell_type": "markdown",
   "metadata": {},
   "source": [
    "Placeholder\n",
    "\n",
    "상수 말고 그래프를 만들어놓고 실행시키는 단계에서 a,b 값을 던져주고 싶을시에\n",
    "\n",
    "노드를 만드는데, 노드를 constant가 아닌 placeholder라는 특별한 노드로 만들어줌\n",
    "\n",
    "그런 다음 노드 두개를 이용해서 adder_node라는 것을 또 만들어줌 : a+b\n",
    "\n",
    "똑같은 방법으로 세션을 만들고 세션을 실행시킴\n",
    "\n",
    "placehold해서 모르는 값 넘겨줘 할때 feed_dict 해서 {a: b: }넘겨주고 그래프를 실행 시킴\n",
    "\n",
    "값 1개만 넘겨줄 필요 없고 array/list로 feed_dict={a: [1,3], b: [2, 4]})) n개의 값을 넘겨줄 수  있음"
   ]
  },
  {
   "cell_type": "code",
   "execution_count": 7,
   "metadata": {
    "collapsed": false,
    "jupyter": {
     "outputs_hidden": false
    }
   },
   "outputs": [
    {
     "name": "stdout",
     "output_type": "stream",
     "text": [
      "7.5\n",
      "[ 3.  7.]\n"
     ]
    }
   ],
   "source": [
    "a = tf.placeholder(tf.float32)\n",
    "b = tf.placeholder(tf.float32)\n",
    "adder_node = a + b  # + provides a shortcut for tf.add(a, b)\n",
    "\n",
    "print(sess.run(adder_node, feed_dict={a: 3, b: 4.5}))\n",
    "print(sess.run(adder_node, feed_dict={a: [1,3], b: [2, 4]}))"
   ]
  },
  {
   "cell_type": "markdown",
   "metadata": {},
   "source": [
    "그래프 정의할때 placeholder라는 값으로 만들어주고\n",
    "\n",
    "sess을 통해 graph를 실행시킬때 fee_dict를 통해 값을 넘겨준다.\n",
    "\n",
    "그러면 그래프가 실행 되면서 필요한것들, 내부 variable을 update시키거나 출력값을 return한다. "
   ]
  },
  {
   "cell_type": "code",
   "execution_count": 8,
   "metadata": {
    "collapsed": false,
    "jupyter": {
     "outputs_hidden": false
    }
   },
   "outputs": [
    {
     "name": "stdout",
     "output_type": "stream",
     "text": [
      "22.5\n"
     ]
    }
   ],
   "source": [
    "add_and_triple = adder_node * 3.\n",
    "print(sess.run(add_and_triple, feed_dict={a: 3, b:4.5}))"
   ]
  },
  {
   "cell_type": "code",
   "execution_count": null,
   "metadata": {},
   "outputs": [],
   "source": [
    "tense에 대한 이해 \n",
    "\n",
    "기본 적으로 array를 말함 \n",
    "\n",
    "텐서를 얘기할떄는 rank, shape ,type 이런 형태로 이야기함\n",
    "\n",
    "rank로 보게 되면 몇차원 array냐 : \n",
    "    숫자 scalar 0차원 : s= 483 , 1차원 v=[1.1,2,3] , 2차원 m=[[2,3],[4,5]] ...\n",
    "\n",
    "shape : 각각의 element에 몇개씩 들어있느냐 \n",
    "    t=[[1,2,3],[4,5,6]] : (2,3) (차원,shape : 안쪽 원소개수) [2,3]\n",
    "    \n",
    "    rank   shape \n",
    "    0       []\n",
    "    1       [D0]\n",
    "    2       [D0,D1] 2차원텐스인데 D1만큼의 element를 내부적으로 갖고 있음\n",
    "    3       [D0,D1,D2]\n",
    "    n       [D0,D1,....Dn-1]\n",
    "\n",
    "Data type도 텐서에서 중요, 대부분 float 32 나 int32 사용\n",
    "\n",
    "=>shape, type, rank 유념해서 텐서 사용해야함"
   ]
  }
 ],
 "metadata": {
  "kernelspec": {
   "display_name": "Python 3",
   "language": "python",
   "name": "python3"
  },
  "language_info": {
   "codemirror_mode": {
    "name": "ipython",
    "version": 3
   },
   "file_extension": ".py",
   "mimetype": "text/x-python",
   "name": "python",
   "nbconvert_exporter": "python",
   "pygments_lexer": "ipython3",
   "version": "3.8.3"
  }
 },
 "nbformat": 4,
 "nbformat_minor": 4
}
